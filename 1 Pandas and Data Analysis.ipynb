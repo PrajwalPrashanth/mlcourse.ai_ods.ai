{
 "cells": [
  {
   "cell_type": "code",
   "execution_count": 1,
   "metadata": {},
   "outputs": [],
   "source": [
    "import pandas as pd\n",
    "from matplotlib import pyplot as plt"
   ]
  },
  {
   "cell_type": "code",
   "execution_count": 2,
   "metadata": {},
   "outputs": [],
   "source": [
    "df = pd.read_csv('../mlcourse.ai/data/beauty.csv', sep=\";\")"
   ]
  },
  {
   "cell_type": "code",
   "execution_count": 8,
   "metadata": {},
   "outputs": [
    {
     "data": {
      "text/plain": [
       "pandas.core.frame.DataFrame"
      ]
     },
     "execution_count": 8,
     "metadata": {},
     "output_type": "execute_result"
    }
   ],
   "source": [
    "type(df)"
   ]
  },
  {
   "cell_type": "code",
   "execution_count": 9,
   "metadata": {},
   "outputs": [
    {
     "data": {
      "text/html": [
       "<div>\n",
       "<style scoped>\n",
       "    .dataframe tbody tr th:only-of-type {\n",
       "        vertical-align: middle;\n",
       "    }\n",
       "\n",
       "    .dataframe tbody tr th {\n",
       "        vertical-align: top;\n",
       "    }\n",
       "\n",
       "    .dataframe thead th {\n",
       "        text-align: right;\n",
       "    }\n",
       "</style>\n",
       "<table border=\"1\" class=\"dataframe\">\n",
       "  <thead>\n",
       "    <tr style=\"text-align: right;\">\n",
       "      <th></th>\n",
       "      <th>wage</th>\n",
       "      <th>exper</th>\n",
       "      <th>union</th>\n",
       "      <th>goodhlth</th>\n",
       "      <th>black</th>\n",
       "      <th>female</th>\n",
       "      <th>married</th>\n",
       "      <th>service</th>\n",
       "      <th>educ</th>\n",
       "      <th>looks</th>\n",
       "    </tr>\n",
       "  </thead>\n",
       "  <tbody>\n",
       "    <tr>\n",
       "      <th>0</th>\n",
       "      <td>5.73</td>\n",
       "      <td>30</td>\n",
       "      <td>0</td>\n",
       "      <td>1</td>\n",
       "      <td>0</td>\n",
       "      <td>1</td>\n",
       "      <td>1</td>\n",
       "      <td>1</td>\n",
       "      <td>14</td>\n",
       "      <td>4</td>\n",
       "    </tr>\n",
       "    <tr>\n",
       "      <th>1</th>\n",
       "      <td>4.28</td>\n",
       "      <td>28</td>\n",
       "      <td>0</td>\n",
       "      <td>1</td>\n",
       "      <td>0</td>\n",
       "      <td>1</td>\n",
       "      <td>1</td>\n",
       "      <td>0</td>\n",
       "      <td>12</td>\n",
       "      <td>3</td>\n",
       "    </tr>\n",
       "    <tr>\n",
       "      <th>2</th>\n",
       "      <td>7.96</td>\n",
       "      <td>35</td>\n",
       "      <td>0</td>\n",
       "      <td>1</td>\n",
       "      <td>0</td>\n",
       "      <td>1</td>\n",
       "      <td>0</td>\n",
       "      <td>0</td>\n",
       "      <td>10</td>\n",
       "      <td>4</td>\n",
       "    </tr>\n",
       "    <tr>\n",
       "      <th>3</th>\n",
       "      <td>11.57</td>\n",
       "      <td>38</td>\n",
       "      <td>0</td>\n",
       "      <td>1</td>\n",
       "      <td>0</td>\n",
       "      <td>0</td>\n",
       "      <td>1</td>\n",
       "      <td>1</td>\n",
       "      <td>16</td>\n",
       "      <td>3</td>\n",
       "    </tr>\n",
       "    <tr>\n",
       "      <th>4</th>\n",
       "      <td>11.42</td>\n",
       "      <td>27</td>\n",
       "      <td>0</td>\n",
       "      <td>1</td>\n",
       "      <td>0</td>\n",
       "      <td>0</td>\n",
       "      <td>1</td>\n",
       "      <td>0</td>\n",
       "      <td>16</td>\n",
       "      <td>3</td>\n",
       "    </tr>\n",
       "  </tbody>\n",
       "</table>\n",
       "</div>"
      ],
      "text/plain": [
       "    wage  exper  union  goodhlth  black  female  married  service  educ  looks\n",
       "0   5.73     30      0         1      0       1        1        1    14      4\n",
       "1   4.28     28      0         1      0       1        1        0    12      3\n",
       "2   7.96     35      0         1      0       1        0        0    10      4\n",
       "3  11.57     38      0         1      0       0        1        1    16      3\n",
       "4  11.42     27      0         1      0       0        1        0    16      3"
      ]
     },
     "execution_count": 9,
     "metadata": {},
     "output_type": "execute_result"
    }
   ],
   "source": [
    "df.head()"
   ]
  },
  {
   "cell_type": "code",
   "execution_count": 11,
   "metadata": {},
   "outputs": [
    {
     "data": {
      "text/plain": [
       "0     5.73\n",
       "1     4.28\n",
       "2     7.96\n",
       "3    11.57\n",
       "4    11.42\n",
       "Name: wage, dtype: float64"
      ]
     },
     "execution_count": 11,
     "metadata": {},
     "output_type": "execute_result"
    }
   ],
   "source": [
    "df['wage'].head()"
   ]
  },
  {
   "cell_type": "code",
   "execution_count": 13,
   "metadata": {},
   "outputs": [
    {
     "data": {
      "text/plain": [
       "(1260, 10)"
      ]
     },
     "execution_count": 13,
     "metadata": {},
     "output_type": "execute_result"
    }
   ],
   "source": [
    "df.shape"
   ]
  },
  {
   "cell_type": "code",
   "execution_count": 14,
   "metadata": {},
   "outputs": [
    {
     "data": {
      "text/plain": [
       "Index(['wage', 'exper', 'union', 'goodhlth', 'black', 'female', 'married',\n",
       "       'service', 'educ', 'looks'],\n",
       "      dtype='object')"
      ]
     },
     "execution_count": 14,
     "metadata": {},
     "output_type": "execute_result"
    }
   ],
   "source": [
    "df.columns"
   ]
  },
  {
   "cell_type": "code",
   "execution_count": 15,
   "metadata": {},
   "outputs": [
    {
     "name": "stdout",
     "output_type": "stream",
     "text": [
      "<class 'pandas.core.frame.DataFrame'>\n",
      "RangeIndex: 1260 entries, 0 to 1259\n",
      "Data columns (total 10 columns):\n",
      "wage        1260 non-null float64\n",
      "exper       1260 non-null int64\n",
      "union       1260 non-null int64\n",
      "goodhlth    1260 non-null int64\n",
      "black       1260 non-null int64\n",
      "female      1260 non-null int64\n",
      "married     1260 non-null int64\n",
      "service     1260 non-null int64\n",
      "educ        1260 non-null int64\n",
      "looks       1260 non-null int64\n",
      "dtypes: float64(1), int64(9)\n",
      "memory usage: 98.5 KB\n"
     ]
    }
   ],
   "source": [
    "df.info()"
   ]
  },
  {
   "cell_type": "code",
   "execution_count": 16,
   "metadata": {},
   "outputs": [
    {
     "data": {
      "text/html": [
       "<div>\n",
       "<style scoped>\n",
       "    .dataframe tbody tr th:only-of-type {\n",
       "        vertical-align: middle;\n",
       "    }\n",
       "\n",
       "    .dataframe tbody tr th {\n",
       "        vertical-align: top;\n",
       "    }\n",
       "\n",
       "    .dataframe thead th {\n",
       "        text-align: right;\n",
       "    }\n",
       "</style>\n",
       "<table border=\"1\" class=\"dataframe\">\n",
       "  <thead>\n",
       "    <tr style=\"text-align: right;\">\n",
       "      <th></th>\n",
       "      <th>wage</th>\n",
       "      <th>exper</th>\n",
       "      <th>union</th>\n",
       "      <th>goodhlth</th>\n",
       "      <th>black</th>\n",
       "      <th>female</th>\n",
       "      <th>married</th>\n",
       "      <th>service</th>\n",
       "      <th>educ</th>\n",
       "      <th>looks</th>\n",
       "    </tr>\n",
       "  </thead>\n",
       "  <tbody>\n",
       "    <tr>\n",
       "      <th>count</th>\n",
       "      <td>1260.000000</td>\n",
       "      <td>1260.000000</td>\n",
       "      <td>1260.000000</td>\n",
       "      <td>1260.000000</td>\n",
       "      <td>1260.000000</td>\n",
       "      <td>1260.000000</td>\n",
       "      <td>1260.000000</td>\n",
       "      <td>1260.000000</td>\n",
       "      <td>1260.000000</td>\n",
       "      <td>1260.000000</td>\n",
       "    </tr>\n",
       "    <tr>\n",
       "      <th>mean</th>\n",
       "      <td>6.306690</td>\n",
       "      <td>18.206349</td>\n",
       "      <td>0.272222</td>\n",
       "      <td>0.933333</td>\n",
       "      <td>0.073810</td>\n",
       "      <td>0.346032</td>\n",
       "      <td>0.691270</td>\n",
       "      <td>0.273810</td>\n",
       "      <td>12.563492</td>\n",
       "      <td>3.185714</td>\n",
       "    </tr>\n",
       "    <tr>\n",
       "      <th>std</th>\n",
       "      <td>4.660639</td>\n",
       "      <td>11.963485</td>\n",
       "      <td>0.445280</td>\n",
       "      <td>0.249543</td>\n",
       "      <td>0.261564</td>\n",
       "      <td>0.475892</td>\n",
       "      <td>0.462153</td>\n",
       "      <td>0.446089</td>\n",
       "      <td>2.624489</td>\n",
       "      <td>0.684877</td>\n",
       "    </tr>\n",
       "    <tr>\n",
       "      <th>min</th>\n",
       "      <td>1.020000</td>\n",
       "      <td>0.000000</td>\n",
       "      <td>0.000000</td>\n",
       "      <td>0.000000</td>\n",
       "      <td>0.000000</td>\n",
       "      <td>0.000000</td>\n",
       "      <td>0.000000</td>\n",
       "      <td>0.000000</td>\n",
       "      <td>5.000000</td>\n",
       "      <td>1.000000</td>\n",
       "    </tr>\n",
       "    <tr>\n",
       "      <th>25%</th>\n",
       "      <td>3.707500</td>\n",
       "      <td>8.000000</td>\n",
       "      <td>0.000000</td>\n",
       "      <td>1.000000</td>\n",
       "      <td>0.000000</td>\n",
       "      <td>0.000000</td>\n",
       "      <td>0.000000</td>\n",
       "      <td>0.000000</td>\n",
       "      <td>12.000000</td>\n",
       "      <td>3.000000</td>\n",
       "    </tr>\n",
       "    <tr>\n",
       "      <th>50%</th>\n",
       "      <td>5.300000</td>\n",
       "      <td>15.000000</td>\n",
       "      <td>0.000000</td>\n",
       "      <td>1.000000</td>\n",
       "      <td>0.000000</td>\n",
       "      <td>0.000000</td>\n",
       "      <td>1.000000</td>\n",
       "      <td>0.000000</td>\n",
       "      <td>12.000000</td>\n",
       "      <td>3.000000</td>\n",
       "    </tr>\n",
       "    <tr>\n",
       "      <th>75%</th>\n",
       "      <td>7.695000</td>\n",
       "      <td>27.000000</td>\n",
       "      <td>1.000000</td>\n",
       "      <td>1.000000</td>\n",
       "      <td>0.000000</td>\n",
       "      <td>1.000000</td>\n",
       "      <td>1.000000</td>\n",
       "      <td>1.000000</td>\n",
       "      <td>13.000000</td>\n",
       "      <td>4.000000</td>\n",
       "    </tr>\n",
       "    <tr>\n",
       "      <th>max</th>\n",
       "      <td>77.720000</td>\n",
       "      <td>48.000000</td>\n",
       "      <td>1.000000</td>\n",
       "      <td>1.000000</td>\n",
       "      <td>1.000000</td>\n",
       "      <td>1.000000</td>\n",
       "      <td>1.000000</td>\n",
       "      <td>1.000000</td>\n",
       "      <td>17.000000</td>\n",
       "      <td>5.000000</td>\n",
       "    </tr>\n",
       "  </tbody>\n",
       "</table>\n",
       "</div>"
      ],
      "text/plain": [
       "              wage        exper        union     goodhlth        black  \\\n",
       "count  1260.000000  1260.000000  1260.000000  1260.000000  1260.000000   \n",
       "mean      6.306690    18.206349     0.272222     0.933333     0.073810   \n",
       "std       4.660639    11.963485     0.445280     0.249543     0.261564   \n",
       "min       1.020000     0.000000     0.000000     0.000000     0.000000   \n",
       "25%       3.707500     8.000000     0.000000     1.000000     0.000000   \n",
       "50%       5.300000    15.000000     0.000000     1.000000     0.000000   \n",
       "75%       7.695000    27.000000     1.000000     1.000000     0.000000   \n",
       "max      77.720000    48.000000     1.000000     1.000000     1.000000   \n",
       "\n",
       "            female      married      service         educ        looks  \n",
       "count  1260.000000  1260.000000  1260.000000  1260.000000  1260.000000  \n",
       "mean      0.346032     0.691270     0.273810    12.563492     3.185714  \n",
       "std       0.475892     0.462153     0.446089     2.624489     0.684877  \n",
       "min       0.000000     0.000000     0.000000     5.000000     1.000000  \n",
       "25%       0.000000     0.000000     0.000000    12.000000     3.000000  \n",
       "50%       0.000000     1.000000     0.000000    12.000000     3.000000  \n",
       "75%       1.000000     1.000000     1.000000    13.000000     4.000000  \n",
       "max       1.000000     1.000000     1.000000    17.000000     5.000000  "
      ]
     },
     "execution_count": 16,
     "metadata": {},
     "output_type": "execute_result"
    }
   ],
   "source": [
    "df.describe()"
   ]
  },
  {
   "cell_type": "code",
   "execution_count": 21,
   "metadata": {},
   "outputs": [
    {
     "data": {
      "text/plain": [
       "array([[<matplotlib.axes._subplots.AxesSubplot object at 0x000001D3A1FCE160>,\n",
       "        <matplotlib.axes._subplots.AxesSubplot object at 0x000001D3A400E198>,\n",
       "        <matplotlib.axes._subplots.AxesSubplot object at 0x000001D3A40346D8>],\n",
       "       [<matplotlib.axes._subplots.AxesSubplot object at 0x000001D3A4054748>,\n",
       "        <matplotlib.axes._subplots.AxesSubplot object at 0x000001D3A4078630>,\n",
       "        <matplotlib.axes._subplots.AxesSubplot object at 0x000001D3A4093860>],\n",
       "       [<matplotlib.axes._subplots.AxesSubplot object at 0x000001D3A5088860>,\n",
       "        <matplotlib.axes._subplots.AxesSubplot object at 0x000001D3A50AD860>,\n",
       "        <matplotlib.axes._subplots.AxesSubplot object at 0x000001D3A50CEDA0>],\n",
       "       [<matplotlib.axes._subplots.AxesSubplot object at 0x000001D3A50F2320>,\n",
       "        <matplotlib.axes._subplots.AxesSubplot object at 0x000001D3A5115320>,\n",
       "        <matplotlib.axes._subplots.AxesSubplot object at 0x000001D3A5139320>]],\n",
       "      dtype=object)"
      ]
     },
     "execution_count": 21,
     "metadata": {},
     "output_type": "execute_result"
    },
    {
     "data": {
      "image/png": "[encoded data removed]",
      "text/plain": [
       "<matplotlib.figure.Figure at 0x1d3a1f6fba8>"
      ]
     },
     "metadata": {},
     "output_type": "display_data"
    }
   ],
   "source": [
    "df.hist()"
   ]
  },
  {
   "cell_type": "code",
   "execution_count": 22,
   "metadata": {},
   "outputs": [
    {
     "data": {
      "text/plain": [
       "<matplotlib.axes._subplots.AxesSubplot at 0x1d3a51a4ba8>"
      ]
     },
     "execution_count": 22,
     "metadata": {},
     "output_type": "execute_result"
    },
    {
     "data": {
      "image/png": "[encoded data removed]",
      "text/plain": [
       "<matplotlib.figure.Figure at 0x1d3a51856a0>"
      ]
     },
     "metadata": {},
     "output_type": "display_data"
    }
   ],
   "source": [
    "df.wage.hist()"
   ]
  },
  {
   "cell_type": "code",
   "execution_count": 23,
   "metadata": {},
   "outputs": [
    {
     "data": {
      "text/plain": [
       "array([ 5.73,  4.28,  7.96, 11.57, 11.42,  3.91,  8.76,  7.69,  5.  ,\n",
       "        3.89,  3.45,  4.03,  5.14,  3.  ,  7.99,  6.01,  5.16, 11.54,\n",
       "       10.44,  6.79,  6.87, 17.03, 10.05, 15.81, 14.84, 19.08,  8.35,\n",
       "        9.62,  5.96,  6.73,  8.17, 12.39,  4.83, 12.5 ,  2.82, 12.31,\n",
       "       13.22, 16.83,  4.95,  7.21, 11.58, 15.38,  6.1 ,  7.93,  9.16,\n",
       "        6.91, 20.18,  9.93,  7.79,  5.13, 10.99,  6.56, 10.1 , 10.74,\n",
       "       16.35,  4.62,  7.49, 19.23,  4.77,  7.14, 14.42,  9.28, 29.98,\n",
       "       32.79,  8.36, 21.63, 15.9 ,  5.77, 20.99, 23.32,  4.97,  6.89,\n",
       "        5.19,  8.79,  9.32,  8.33, 10.12,  1.98,  8.24,  5.05,  6.55,\n",
       "        4.47,  6.25,  4.13,  4.35,  4.81,  5.24,  2.14,  4.49,  3.61,\n",
       "        5.45,  6.54,  9.2 ,  3.37,  5.54,  6.11,  4.99,  5.88,  5.66,\n",
       "        4.  ,  4.37,  7.55,  5.9 ,  6.37,  6.15,  1.92,  3.27,  2.18,\n",
       "        5.62,  9.29,  6.41,  7.46,  6.59,  5.61,  3.65, 13.01,  6.97,\n",
       "        4.53,  9.1 ,  9.78,  3.63, 10.62, 12.12,  3.85,  3.03,  2.01,\n",
       "        3.9 ,  6.35,  2.  ,  2.63,  9.75,  2.81,  7.33,  3.26,  5.59,\n",
       "       14.74,  3.67,  9.73,  3.46,  6.58, 10.15,  9.23,  6.75, 10.22,\n",
       "        4.76,  1.76, 12.73,  5.85,  3.17,  5.99,  1.8 ,  5.95,  8.7 ,\n",
       "        3.75,  5.79,  5.06, 12.82,  8.46,  3.76,  2.86, 11.81,  2.88,\n",
       "        9.57,  7.77,  5.58,  5.34,  5.17,  7.4 ,  4.61,  8.61,  2.37,\n",
       "        6.72,  9.4 ,  7.84, 15.  ,  4.7 , 11.28, 11.97, 13.99,  3.41,\n",
       "        5.03,  9.84,  5.29,  7.08,  7.92,  4.44,  6.64, 15.8 , 14.18,\n",
       "       10.39,  7.86,  4.05,  7.81,  2.56, 12.98, 41.67,  1.32,  3.71,\n",
       "        4.68,  8.21, 15.63,  7.17,  8.08,  9.03,  8.44,  6.  ,  4.1 ,\n",
       "       14.17, 31.09, 10.29,  2.98, 13.28,  4.2 ,  8.92, 26.24,  7.54,\n",
       "        8.65, 10.26,  8.55,  2.08,  5.93, 10.19,  9.05,  3.92,  2.75,\n",
       "       11.4 ,  2.2 ,  1.65, 11.06,  1.63,  3.58,  6.66, 10.53, 25.64,\n",
       "       10.02,  5.31,  7.19,  3.82,  7.5 ,  6.92,  1.27,  4.82,  7.44,\n",
       "       14.35,  2.4 ,  3.08, 10.66,  2.54,  6.38,  5.7 , 17.49, 16.14,\n",
       "       18.32, 10.42, 24.73,  7.61, 10.  ,  1.68,  5.1 ,  7.72, 13.46,\n",
       "       17.48,  5.09, 20.86,  6.2 , 26.22,  2.5 ,  8.1 ,  6.21,  5.57,\n",
       "        7.6 ,  4.33,  5.38, 15.73,  3.16,  7.63,  3.57,  5.92, 13.12,\n",
       "       38.86,  5.49, 14.79,  2.11,  5.33,  9.13,  9.89,  2.47,  3.29,\n",
       "        3.95,  3.04,  2.27,  3.34,  4.9 ,  3.44,  8.26, 10.68,  7.25,\n",
       "        8.74,  3.33,  4.58,  4.09,  1.83,  4.72,  3.06,  5.63,  1.16,\n",
       "        2.46,  4.11,  1.28,  4.4 ,  3.64,  3.21,  5.64,  6.27,  2.43,\n",
       "        2.51,  7.07,  2.31,  1.25, 13.13,  8.94, 10.58,  1.95,  2.65,\n",
       "        2.62,  7.91,  4.67,  4.46,  3.81,  5.39,  4.92,  2.92,  4.17,\n",
       "        2.26,  7.8 ,  3.59,  4.52,  3.47,  3.96,  7.34,  2.93,  3.28,\n",
       "        6.84,  7.15,  2.91,  4.42,  8.49,  2.57,  2.58, 77.72,  4.27,\n",
       "        9.36,  2.6 ,  4.87,  4.19,  5.37,  3.53,  6.13,  2.39,  3.52,\n",
       "        8.41,  3.22, 12.66,  3.49,  3.39,  5.71,  6.81,  6.05,  5.55,\n",
       "       12.74,  6.4 ,  9.81, 11.95,  6.12,  7.71,  8.93, 12.27,  7.26,\n",
       "        4.73,  9.  ,  4.91, 14.31,  9.74,  5.26, 21.74,  8.81,  3.42,\n",
       "        8.89,  4.16,  8.12,  5.2 , 16.03,  8.  ,  1.66,  5.23,  7.03,\n",
       "       10.3 ,  8.01,  3.93,  7.75,  4.3 ,  5.56,  4.57,  4.15,  4.71,\n",
       "        7.04,  1.48,  6.99,  4.24,  6.49,  4.55, 12.02,  7.36,  9.64,\n",
       "        8.32,  8.78,  7.45, 18.46,  8.85, 10.61,  7.78,  4.21,  6.98,\n",
       "        5.69,  1.2 ,  7.48,  3.13,  4.66,  7.97,  5.15,  4.94,  2.52,\n",
       "        1.96,  2.73,  4.5 ,  5.53, 18.74,  4.12,  3.35,  2.96, 10.82,\n",
       "       11.6 ,  6.5 ,  5.82,  1.79,  3.5 ,  2.64,  6.61,  5.02, 21.54,\n",
       "        3.3 ,  8.5 ,  7.18,  8.6 ,  6.67,  4.01,  3.8 ,  4.32, 13.74,\n",
       "        5.94, 10.54,  1.05,  2.38,  5.08,  7.43, 11.09,  8.04,  4.85,\n",
       "        3.02,  3.98,  7.32,  6.29,  4.29,  3.87, 13.41,  4.41,  6.08,\n",
       "        7.05,  6.69,  4.23,  7.13,  2.17, 12.54,  2.12,  2.32,  3.7 ,\n",
       "        8.88,  7.28,  6.33,  2.02,  2.68,  3.73,  2.21,  1.17,  1.88,\n",
       "        1.82,  1.46,  2.07,  3.54,  1.26,  2.19,  4.69,  2.25,  4.74,\n",
       "        2.89,  6.96,  2.77,  2.33,  1.58,  1.75,  2.15,  1.02,  2.83,\n",
       "       23.16,  1.09,  6.93,  1.56,  8.75,  1.22,  1.61])"
      ]
     },
     "execution_count": 23,
     "metadata": {},
     "output_type": "execute_result"
    }
   ],
   "source": [
    "df.wage.unique()"
   ]
  },
  {
   "cell_type": "code",
   "execution_count": 24,
   "metadata": {},
   "outputs": [
    {
     "data": {
      "text/plain": [
       "520"
      ]
     },
     "execution_count": 24,
     "metadata": {},
     "output_type": "execute_result"
    }
   ],
   "source": [
    "df.wage.nunique()"
   ]
  },
  {
   "cell_type": "code",
   "execution_count": 25,
   "metadata": {},
   "outputs": [
    {
     "data": {
      "text/plain": [
       "3.75     36\n",
       "7.69     32\n",
       "4.81     28\n",
       "1.98     24\n",
       "7.96     21\n",
       "5.73     19\n",
       "4.62     17\n",
       "9.62     16\n",
       "5.77     16\n",
       "7.21     15\n",
       "3.85     15\n",
       "1.92     13\n",
       "2.88     12\n",
       "6.41     12\n",
       "5.13     10\n",
       "3.00     10\n",
       "4.09     10\n",
       "10.12    10\n",
       "5.29      9\n",
       "2.63      9\n",
       "3.33      8\n",
       "6.73      8\n",
       "2.26      8\n",
       "6.54      8\n",
       "6.25      8\n",
       "4.33      8\n",
       "2.40      7\n",
       "3.37      7\n",
       "4.28      7\n",
       "8.65      7\n",
       "         ..\n",
       "7.34      1\n",
       "8.26      1\n",
       "5.17      1\n",
       "3.93      1\n",
       "4.85      1\n",
       "11.42     1\n",
       "1.76      1\n",
       "3.54      1\n",
       "10.61     1\n",
       "7.03      1\n",
       "6.20      1\n",
       "7.44      1\n",
       "3.28      1\n",
       "7.77      1\n",
       "5.37      1\n",
       "2.21      1\n",
       "18.32     1\n",
       "2.73      1\n",
       "14.18     1\n",
       "5.62      1\n",
       "4.52      1\n",
       "4.97      1\n",
       "16.03     1\n",
       "1.58      1\n",
       "8.93      1\n",
       "3.13      1\n",
       "9.10      1\n",
       "11.81     1\n",
       "6.99      1\n",
       "2.37      1\n",
       "Name: wage, Length: 520, dtype: int64"
      ]
     },
     "execution_count": 25,
     "metadata": {},
     "output_type": "execute_result"
    }
   ],
   "source": [
    "df.wage.value_counts()"
   ]
  },
  {
   "cell_type": "markdown",
   "metadata": {},
   "source": [
    "Numeric continous data comparable(age, salary) <br>\n",
    "Categorical finite non comparable(cities)<br>\n",
    "Ordinal comparable finite (like primary middlw high phd)<br>\n",
    "binary two classes"
   ]
  },
  {
   "cell_type": "code",
   "execution_count": 26,
   "metadata": {},
   "outputs": [
    {
     "data": {
      "text/plain": [
       "6.306690476190475"
      ]
     },
     "execution_count": 26,
     "metadata": {},
     "output_type": "execute_result"
    }
   ],
   "source": [
    " df.wage.mean()"
   ]
  },
  {
   "cell_type": "code",
   "execution_count": 27,
   "metadata": {},
   "outputs": [
    {
     "data": {
      "text/plain": [
       "1    0.933333\n",
       "0    0.066667\n",
       "Name: goodhlth, dtype: float64"
      ]
     },
     "execution_count": 27,
     "metadata": {},
     "output_type": "execute_result"
    }
   ],
   "source": [
    "df.goodhlth.value_counts(normalize=True)"
   ]
  },
  {
   "cell_type": "code",
   "execution_count": 28,
   "metadata": {},
   "outputs": [
    {
     "data": {
      "text/plain": [
       "1    1176\n",
       "0      84\n",
       "Name: goodhlth, dtype: int64"
      ]
     },
     "execution_count": 28,
     "metadata": {},
     "output_type": "execute_result"
    }
   ],
   "source": [
    "df.goodhlth.value_counts()"
   ]
  },
  {
   "cell_type": "code",
   "execution_count": 29,
   "metadata": {},
   "outputs": [
    {
     "data": {
      "text/plain": [
       "0    1\n",
       "1    1\n",
       "2    1\n",
       "3    1\n",
       "4    1\n",
       "Name: goodhlth, dtype: int64"
      ]
     },
     "execution_count": 29,
     "metadata": {},
     "output_type": "execute_result"
    }
   ],
   "source": [
    "df.iloc[:5, 3]"
   ]
  },
  {
   "cell_type": "code",
   "execution_count": 37,
   "metadata": {},
   "outputs": [],
   "source": [
    " a = pd.DataFrame({'a': [1, 2, 3],\n",
    "                  'b' : [1, 2, 3]},\n",
    "                  index=['a', 'b', 'c'])"
   ]
  },
  {
   "cell_type": "code",
   "execution_count": 38,
   "metadata": {},
   "outputs": [
    {
     "data": {
      "text/html": [
       "<div>\n",
       "<style scoped>\n",
       "    .dataframe tbody tr th:only-of-type {\n",
       "        vertical-align: middle;\n",
       "    }\n",
       "\n",
       "    .dataframe tbody tr th {\n",
       "        vertical-align: top;\n",
       "    }\n",
       "\n",
       "    .dataframe thead th {\n",
       "        text-align: right;\n",
       "    }\n",
       "</style>\n",
       "<table border=\"1\" class=\"dataframe\">\n",
       "  <thead>\n",
       "    <tr style=\"text-align: right;\">\n",
       "      <th></th>\n",
       "      <th>a</th>\n",
       "      <th>b</th>\n",
       "    </tr>\n",
       "  </thead>\n",
       "  <tbody>\n",
       "    <tr>\n",
       "      <th>a</th>\n",
       "      <td>1</td>\n",
       "      <td>1</td>\n",
       "    </tr>\n",
       "    <tr>\n",
       "      <th>b</th>\n",
       "      <td>2</td>\n",
       "      <td>2</td>\n",
       "    </tr>\n",
       "    <tr>\n",
       "      <th>c</th>\n",
       "      <td>3</td>\n",
       "      <td>3</td>\n",
       "    </tr>\n",
       "  </tbody>\n",
       "</table>\n",
       "</div>"
      ],
      "text/plain": [
       "   a  b\n",
       "a  1  1\n",
       "b  2  2\n",
       "c  3  3"
      ]
     },
     "execution_count": 38,
     "metadata": {},
     "output_type": "execute_result"
    }
   ],
   "source": [
    "a"
   ]
  },
  {
   "cell_type": "code",
   "execution_count": 41,
   "metadata": {},
   "outputs": [
    {
     "data": {
      "text/plain": [
       "2"
      ]
     },
     "execution_count": 41,
     "metadata": {},
     "output_type": "execute_result"
    }
   ],
   "source": [
    "a.iloc[1,1]"
   ]
  },
  {
   "cell_type": "code",
   "execution_count": 42,
   "metadata": {},
   "outputs": [
    {
     "data": {
      "text/plain": [
       "a    1\n",
       "b    2\n",
       "Name: a, dtype: int64"
      ]
     },
     "execution_count": 42,
     "metadata": {},
     "output_type": "execute_result"
    }
   ],
   "source": [
    "a.loc[['a', 'b'], 'a']"
   ]
  },
  {
   "cell_type": "code",
   "execution_count": 43,
   "metadata": {},
   "outputs": [
    {
     "data": {
      "text/plain": [
       "0       False\n",
       "1       False\n",
       "2       False\n",
       "3       False\n",
       "4       False\n",
       "5       False\n",
       "6       False\n",
       "7       False\n",
       "8       False\n",
       "9       False\n",
       "10      False\n",
       "11      False\n",
       "12      False\n",
       "13      False\n",
       "14      False\n",
       "15      False\n",
       "16      False\n",
       "17      False\n",
       "18      False\n",
       "19      False\n",
       "20      False\n",
       "21      False\n",
       "22      False\n",
       "23      False\n",
       "24      False\n",
       "25      False\n",
       "26      False\n",
       "27      False\n",
       "28      False\n",
       "29      False\n",
       "        ...  \n",
       "1230    False\n",
       "1231    False\n",
       "1232    False\n",
       "1233    False\n",
       "1234    False\n",
       "1235    False\n",
       "1236    False\n",
       "1237    False\n",
       "1238    False\n",
       "1239    False\n",
       "1240    False\n",
       "1241    False\n",
       "1242    False\n",
       "1243    False\n",
       "1244    False\n",
       "1245    False\n",
       "1246    False\n",
       "1247    False\n",
       "1248    False\n",
       "1249    False\n",
       "1250    False\n",
       "1251    False\n",
       "1252    False\n",
       "1253    False\n",
       "1254    False\n",
       "1255    False\n",
       "1256    False\n",
       "1257    False\n",
       "1258    False\n",
       "1259    False\n",
       "Name: wage, Length: 1260, dtype: bool"
      ]
     },
     "execution_count": 43,
     "metadata": {},
     "output_type": "execute_result"
    }
   ],
   "source": [
    "df.wage == 40"
   ]
  },
  {
   "cell_type": "code",
   "execution_count": 44,
   "metadata": {},
   "outputs": [
    {
     "data": {
      "text/html": [
       "<div>\n",
       "<style scoped>\n",
       "    .dataframe tbody tr th:only-of-type {\n",
       "        vertical-align: middle;\n",
       "    }\n",
       "\n",
       "    .dataframe tbody tr th {\n",
       "        vertical-align: top;\n",
       "    }\n",
       "\n",
       "    .dataframe thead th {\n",
       "        text-align: right;\n",
       "    }\n",
       "</style>\n",
       "<table border=\"1\" class=\"dataframe\">\n",
       "  <thead>\n",
       "    <tr style=\"text-align: right;\">\n",
       "      <th></th>\n",
       "      <th>wage</th>\n",
       "      <th>exper</th>\n",
       "      <th>union</th>\n",
       "      <th>goodhlth</th>\n",
       "      <th>black</th>\n",
       "      <th>female</th>\n",
       "      <th>married</th>\n",
       "      <th>service</th>\n",
       "      <th>educ</th>\n",
       "      <th>looks</th>\n",
       "    </tr>\n",
       "  </thead>\n",
       "  <tbody>\n",
       "    <tr>\n",
       "      <th>269</th>\n",
       "      <td>41.67</td>\n",
       "      <td>16</td>\n",
       "      <td>0</td>\n",
       "      <td>0</td>\n",
       "      <td>0</td>\n",
       "      <td>0</td>\n",
       "      <td>1</td>\n",
       "      <td>0</td>\n",
       "      <td>13</td>\n",
       "      <td>4</td>\n",
       "    </tr>\n",
       "    <tr>\n",
       "      <th>602</th>\n",
       "      <td>77.72</td>\n",
       "      <td>9</td>\n",
       "      <td>1</td>\n",
       "      <td>1</td>\n",
       "      <td>1</td>\n",
       "      <td>1</td>\n",
       "      <td>1</td>\n",
       "      <td>1</td>\n",
       "      <td>13</td>\n",
       "      <td>4</td>\n",
       "    </tr>\n",
       "  </tbody>\n",
       "</table>\n",
       "</div>"
      ],
      "text/plain": [
       "      wage  exper  union  goodhlth  black  female  married  service  educ  \\\n",
       "269  41.67     16      0         0      0       0        1        0    13   \n",
       "602  77.72      9      1         1      1       1        1        1    13   \n",
       "\n",
       "     looks  \n",
       "269      4  \n",
       "602      4  "
      ]
     },
     "execution_count": 44,
     "metadata": {},
     "output_type": "execute_result"
    }
   ],
   "source": [
    "df[df['wage']>40]"
   ]
  },
  {
   "cell_type": "code",
   "execution_count": 45,
   "metadata": {},
   "outputs": [
    {
     "data": {
      "text/html": [
       "<div>\n",
       "<style scoped>\n",
       "    .dataframe tbody tr th:only-of-type {\n",
       "        vertical-align: middle;\n",
       "    }\n",
       "\n",
       "    .dataframe tbody tr th {\n",
       "        vertical-align: top;\n",
       "    }\n",
       "\n",
       "    .dataframe thead th {\n",
       "        text-align: right;\n",
       "    }\n",
       "</style>\n",
       "<table border=\"1\" class=\"dataframe\">\n",
       "  <thead>\n",
       "    <tr style=\"text-align: right;\">\n",
       "      <th></th>\n",
       "      <th>wage</th>\n",
       "      <th>exper</th>\n",
       "      <th>union</th>\n",
       "      <th>goodhlth</th>\n",
       "      <th>black</th>\n",
       "      <th>female</th>\n",
       "      <th>married</th>\n",
       "      <th>service</th>\n",
       "      <th>educ</th>\n",
       "      <th>looks</th>\n",
       "    </tr>\n",
       "  </thead>\n",
       "  <tbody>\n",
       "    <tr>\n",
       "      <th>18</th>\n",
       "      <td>10.44</td>\n",
       "      <td>10</td>\n",
       "      <td>0</td>\n",
       "      <td>1</td>\n",
       "      <td>0</td>\n",
       "      <td>1</td>\n",
       "      <td>0</td>\n",
       "      <td>0</td>\n",
       "      <td>17</td>\n",
       "      <td>4</td>\n",
       "    </tr>\n",
       "    <tr>\n",
       "      <th>85</th>\n",
       "      <td>10.12</td>\n",
       "      <td>40</td>\n",
       "      <td>0</td>\n",
       "      <td>1</td>\n",
       "      <td>1</td>\n",
       "      <td>1</td>\n",
       "      <td>0</td>\n",
       "      <td>1</td>\n",
       "      <td>10</td>\n",
       "      <td>3</td>\n",
       "    </tr>\n",
       "    <tr>\n",
       "      <th>149</th>\n",
       "      <td>10.62</td>\n",
       "      <td>18</td>\n",
       "      <td>1</td>\n",
       "      <td>1</td>\n",
       "      <td>0</td>\n",
       "      <td>1</td>\n",
       "      <td>1</td>\n",
       "      <td>1</td>\n",
       "      <td>17</td>\n",
       "      <td>3</td>\n",
       "    </tr>\n",
       "    <tr>\n",
       "      <th>152</th>\n",
       "      <td>12.12</td>\n",
       "      <td>35</td>\n",
       "      <td>1</td>\n",
       "      <td>0</td>\n",
       "      <td>0</td>\n",
       "      <td>1</td>\n",
       "      <td>0</td>\n",
       "      <td>1</td>\n",
       "      <td>17</td>\n",
       "      <td>3</td>\n",
       "    </tr>\n",
       "    <tr>\n",
       "      <th>184</th>\n",
       "      <td>10.22</td>\n",
       "      <td>26</td>\n",
       "      <td>0</td>\n",
       "      <td>1</td>\n",
       "      <td>0</td>\n",
       "      <td>1</td>\n",
       "      <td>0</td>\n",
       "      <td>1</td>\n",
       "      <td>17</td>\n",
       "      <td>3</td>\n",
       "    </tr>\n",
       "    <tr>\n",
       "      <th>334</th>\n",
       "      <td>10.53</td>\n",
       "      <td>18</td>\n",
       "      <td>0</td>\n",
       "      <td>1</td>\n",
       "      <td>0</td>\n",
       "      <td>1</td>\n",
       "      <td>1</td>\n",
       "      <td>1</td>\n",
       "      <td>16</td>\n",
       "      <td>3</td>\n",
       "    </tr>\n",
       "    <tr>\n",
       "      <th>546</th>\n",
       "      <td>10.12</td>\n",
       "      <td>18</td>\n",
       "      <td>0</td>\n",
       "      <td>1</td>\n",
       "      <td>0</td>\n",
       "      <td>1</td>\n",
       "      <td>0</td>\n",
       "      <td>1</td>\n",
       "      <td>13</td>\n",
       "      <td>3</td>\n",
       "    </tr>\n",
       "    <tr>\n",
       "      <th>602</th>\n",
       "      <td>77.72</td>\n",
       "      <td>9</td>\n",
       "      <td>1</td>\n",
       "      <td>1</td>\n",
       "      <td>1</td>\n",
       "      <td>1</td>\n",
       "      <td>1</td>\n",
       "      <td>1</td>\n",
       "      <td>13</td>\n",
       "      <td>4</td>\n",
       "    </tr>\n",
       "  </tbody>\n",
       "</table>\n",
       "</div>"
      ],
      "text/plain": [
       "      wage  exper  union  goodhlth  black  female  married  service  educ  \\\n",
       "18   10.44     10      0         1      0       1        0        0    17   \n",
       "85   10.12     40      0         1      1       1        0        1    10   \n",
       "149  10.62     18      1         1      0       1        1        1    17   \n",
       "152  12.12     35      1         0      0       1        0        1    17   \n",
       "184  10.22     26      0         1      0       1        0        1    17   \n",
       "334  10.53     18      0         1      0       1        1        1    16   \n",
       "546  10.12     18      0         1      0       1        0        1    13   \n",
       "602  77.72      9      1         1      1       1        1        1    13   \n",
       "\n",
       "     looks  \n",
       "18       4  \n",
       "85       3  \n",
       "149      3  \n",
       "152      3  \n",
       "184      3  \n",
       "334      3  \n",
       "546      3  \n",
       "602      4  "
      ]
     },
     "execution_count": 45,
     "metadata": {},
     "output_type": "execute_result"
    }
   ],
   "source": [
    "df[(df['wage']>10) & (df['female'] == 1)]"
   ]
  },
  {
   "cell_type": "code",
   "execution_count": 46,
   "metadata": {},
   "outputs": [],
   "source": [
    "def gender_int_to_str(id):\n",
    "    return 'female' if id == 1 else 'male'"
   ]
  },
  {
   "cell_type": "code",
   "execution_count": 47,
   "metadata": {},
   "outputs": [
    {
     "data": {
      "text/plain": [
       "0    female\n",
       "1    female\n",
       "2    female\n",
       "3      male\n",
       "4      male\n",
       "Name: female, dtype: object"
      ]
     },
     "execution_count": 47,
     "metadata": {},
     "output_type": "execute_result"
    }
   ],
   "source": [
    "df.female.apply(gender_int_to_str).head()"
   ]
  },
  {
   "cell_type": "code",
   "execution_count": 49,
   "metadata": {},
   "outputs": [
    {
     "data": {
      "text/plain": [
       "0    female\n",
       "1    female\n",
       "2    female\n",
       "3      male\n",
       "4      male\n",
       "Name: female, dtype: object"
      ]
     },
     "execution_count": 49,
     "metadata": {},
     "output_type": "execute_result"
    }
   ],
   "source": [
    "df.female.apply(lambda gid: 'female' if gid == 1 else 'male').head()"
   ]
  },
  {
   "cell_type": "code",
   "execution_count": 50,
   "metadata": {},
   "outputs": [
    {
     "data": {
      "text/plain": [
       "0    female\n",
       "1    female\n",
       "2    female\n",
       "3      male\n",
       "4      male\n",
       "Name: female, dtype: object"
      ]
     },
     "execution_count": 50,
     "metadata": {},
     "output_type": "execute_result"
    }
   ],
   "source": [
    "df.female.map({0: 'male', 1: 'female'}).head()"
   ]
  },
  {
   "cell_type": "code",
   "execution_count": 51,
   "metadata": {},
   "outputs": [
    {
     "data": {
      "text/plain": [
       "0        5.73\n",
       "1        4.28\n",
       "2        7.96\n",
       "5        3.91\n",
       "8        5.00\n",
       "9        3.89\n",
       "10       3.45\n",
       "18      10.44\n",
       "19       7.69\n",
       "44       4.95\n",
       "50       9.16\n",
       "51       6.91\n",
       "61       4.62\n",
       "64       4.77\n",
       "65       7.14\n",
       "71       8.36\n",
       "79       5.73\n",
       "81       7.79\n",
       "82       8.79\n",
       "83       9.32\n",
       "84       8.33\n",
       "85      10.12\n",
       "86       1.98\n",
       "87       8.24\n",
       "88       5.05\n",
       "89       6.55\n",
       "91       7.96\n",
       "94       6.73\n",
       "95       7.69\n",
       "96       4.35\n",
       "        ...  \n",
       "1199     4.47\n",
       "1200     2.07\n",
       "1201     6.97\n",
       "1202     1.98\n",
       "1203     4.62\n",
       "1205     1.80\n",
       "1206     4.62\n",
       "1212     1.75\n",
       "1213     2.15\n",
       "1214     1.02\n",
       "1215     2.40\n",
       "1216     2.83\n",
       "1217     3.29\n",
       "1218     1.98\n",
       "1220     5.49\n",
       "1222     3.29\n",
       "1223     2.88\n",
       "1224     2.63\n",
       "1225     5.82\n",
       "1226     1.09\n",
       "1227     1.28\n",
       "1228     6.25\n",
       "1234     1.98\n",
       "1253     1.22\n",
       "1254     1.79\n",
       "1255     1.61\n",
       "1256     1.68\n",
       "1257     3.29\n",
       "1258     2.31\n",
       "1259     1.92\n",
       "Name: wage, Length: 436, dtype: float64"
      ]
     },
     "execution_count": 51,
     "metadata": {},
     "output_type": "execute_result"
    }
   ],
   "source": [
    " df.loc[df.female == 1, 'wage']"
   ]
  },
  {
   "cell_type": "code",
   "execution_count": 52,
   "metadata": {},
   "outputs": [
    {
     "data": {
      "text/plain": [
       "3.75"
      ]
     },
     "execution_count": 52,
     "metadata": {},
     "output_type": "execute_result"
    }
   ],
   "source": [
    " df.loc[df.female == 1, 'wage'].median()"
   ]
  },
  {
   "cell_type": "code",
   "execution_count": 58,
   "metadata": {},
   "outputs": [
    {
     "data": {
      "text/plain": [
       "female  married\n",
       "0       0          5.065\n",
       "        1          6.710\n",
       "1       0          3.890\n",
       "        1          3.580\n",
       "Name: wage, dtype: float64"
      ]
     },
     "execution_count": 58,
     "metadata": {},
     "output_type": "execute_result"
    }
   ],
   "source": [
    "df.groupby(['female', 'married'])['wage'].median() ## groupby is a generator"
   ]
  },
  {
   "cell_type": "code",
   "execution_count": 59,
   "metadata": {},
   "outputs": [
    {
     "data": {
      "text/html": [
       "<div>\n",
       "<style scoped>\n",
       "    .dataframe tbody tr th:only-of-type {\n",
       "        vertical-align: middle;\n",
       "    }\n",
       "\n",
       "    .dataframe tbody tr th {\n",
       "        vertical-align: top;\n",
       "    }\n",
       "\n",
       "    .dataframe thead th {\n",
       "        text-align: right;\n",
       "    }\n",
       "</style>\n",
       "<table border=\"1\" class=\"dataframe\">\n",
       "  <thead>\n",
       "    <tr style=\"text-align: right;\">\n",
       "      <th>married</th>\n",
       "      <th>0</th>\n",
       "      <th>1</th>\n",
       "    </tr>\n",
       "    <tr>\n",
       "      <th>female</th>\n",
       "      <th></th>\n",
       "      <th></th>\n",
       "    </tr>\n",
       "  </thead>\n",
       "  <tbody>\n",
       "    <tr>\n",
       "      <th>0</th>\n",
       "      <td>166</td>\n",
       "      <td>658</td>\n",
       "    </tr>\n",
       "    <tr>\n",
       "      <th>1</th>\n",
       "      <td>223</td>\n",
       "      <td>213</td>\n",
       "    </tr>\n",
       "  </tbody>\n",
       "</table>\n",
       "</div>"
      ],
      "text/plain": [
       "married    0    1\n",
       "female           \n",
       "0        166  658\n",
       "1        223  213"
      ]
     },
     "execution_count": 59,
     "metadata": {},
     "output_type": "execute_result"
    }
   ],
   "source": [
    "pd.crosstab(df.female, df.married)"
   ]
  },
  {
   "cell_type": "code",
   "execution_count": 61,
   "metadata": {},
   "outputs": [],
   "source": [
    "import seaborn as sns"
   ]
  },
  {
   "cell_type": "code",
   "execution_count": 62,
   "metadata": {
    "scrolled": true
   },
   "outputs": [
    {
     "data": {
      "text/plain": [
       "12    468\n",
       "13    246\n",
       "10    156\n",
       "17    132\n",
       "16    121\n",
       "14     51\n",
       "8      44\n",
       "5      42\n",
       "Name: educ, dtype: int64"
      ]
     },
     "execution_count": 62,
     "metadata": {},
     "output_type": "execute_result"
    }
   ],
   "source": [
    "df.educ.value_counts()"
   ]
  },
  {
   "cell_type": "markdown",
   "metadata": {},
   "source": [
    "IQR inter quartile range(%75 - %25) (not affected by outliers unlinke mean) <br>\n",
    "mid line is meadian <br>\n",
    "rectangel is the inter quartile range <br>\n",
    "left line is 25th perecent quartile - 1.5 iqr <br>\n",
    "right line is 75th percent quartile + 1.5 iqr"
   ]
  },
  {
   "cell_type": "code",
   "execution_count": 63,
   "metadata": {},
   "outputs": [
    {
     "data": {
      "text/plain": [
       "<matplotlib.axes._subplots.AxesSubplot at 0x1d3a5dffb38>"
      ]
     },
     "execution_count": 63,
     "metadata": {},
     "output_type": "execute_result"
    },
    {
     "data": {
      "image/png": "[encoded data removed]",
      "text/plain": [
       "<matplotlib.figure.Figure at 0x1d3a5dff4e0>"
      ]
     },
     "metadata": {},
     "output_type": "display_data"
    }
   ],
   "source": [
    "sns.boxplot(x='wage', data=df[df.wage < 30])"
   ]
  },
  {
   "cell_type": "code",
   "execution_count": 64,
   "metadata": {},
   "outputs": [
    {
     "data": {
      "text/plain": [
       "<matplotlib.axes._subplots.AxesSubplot at 0x1d3a5e639e8>"
      ]
     },
     "execution_count": 64,
     "metadata": {},
     "output_type": "execute_result"
    },
    {
     "data": {
      "image/png": "[encoded data removed]",
      "text/plain": [
       "<matplotlib.figure.Figure at 0x1d3a5e35668>"
      ]
     },
     "metadata": {},
     "output_type": "display_data"
    }
   ],
   "source": [
    " sns.boxplot(x='educ', y='wage', data=df[df.wage < 30])"
   ]
  },
  {
   "cell_type": "code",
   "execution_count": null,
   "metadata": {},
   "outputs": [],
   "source": [
    " "
   ]
  }
 ],
 "metadata": {
  "kernelspec": {
   "display_name": "Python 3",
   "language": "python",
   "name": "python3"
  },
  "language_info": {
   "codemirror_mode": {
    "name": "ipython",
    "version": 3
   },
   "file_extension": ".py",
   "mimetype": "text/x-python",
   "name": "python",
   "nbconvert_exporter": "python",
   "pygments_lexer": "ipython3",
   "version": "3.5.3"
  }
 },
 "nbformat": 4,
 "nbformat_minor": 2
}
